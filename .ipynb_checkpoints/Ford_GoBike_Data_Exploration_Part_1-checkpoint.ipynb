{
 "cells": [
  {
   "cell_type": "markdown",
   "id": "47536b8e",
   "metadata": {},
   "source": [
    "# Exploration and Visualization of the 2019 Ford GoBike System Dataset\n",
    "\n",
    "## by (Bukola Ajayi)"
   ]
  },
  {
   "cell_type": "markdown",
   "id": "be4856bf",
   "metadata": {},
   "source": [
    "### Table of Contents\n",
    "\n",
    "[Introduction](#Introduction)\n",
    "\n",
    "[Preliminary Wrangling](#Preliminary-Wrangling)\n",
    "\n",
    "[Data Accessing](#Data-Accessing)\n",
    "\n",
    "[Making a Copy of The Dataset](#Making-a-Copy-of-The-Dataset)\n",
    "\n",
    "[Data Cleaning](#Data-Cleaning)\n",
    "\n",
    "[Exporting the Cleaned data to a New CSV](#Exporting-the-Cleaned-Data-to-a-New-CSV)\n",
    "\n",
    "[Univariate Exploration](#Univariate-Exploration)\n",
    "\n",
    "[Bivariate Exploration](#Bivariate-Exploration)\n",
    "\n",
    "[Multivariate Exploration](#Multivariate-Exploration)\n",
    "\n",
    "[Conclusion](#Conclusion)\n",
    "\n",
    "[References](#References)\n"
   ]
  },
  {
   "cell_type": "markdown",
   "id": "cb5520e0",
   "metadata": {},
   "source": [
    "## Introduction\n",
    "> This data set includes information about individual rides made on a bike-sharing system covering the greater San Francisco Bay area in the year 2019. This dataset consists of over 180K records with 16 columns.\n",
    "\n",
    "From the dataset given, I will be looking at answering the following questions:\n",
    "\n",
    "- Question 1. What is the distribution of users? \n",
    "\n",
    "\n",
    "- Question 2. What is the distribution of gender?  \n",
    "\n",
    "\n",
    "- Question 3. How do we distribute users' birth years across the board?\n",
    "\n",
    "\n",
    "- Question 4. What is the distribution of bike duration in minutes?\n",
    "\n",
    "\n",
    "- Question 5. What is the weekly bikes rental?\n",
    "\n",
    "\n",
    "- Question 6. What is the distribution of bikes across the top 20 start stations?\n",
    "\n",
    "\n",
    "- Question 7. What is the distribution of bikes across the top 20 end stations?\n",
    "\n",
    "\n",
    "- Question 8. What is the weekly distribution of bikes when considering the duration in minutes? \n",
    "\n",
    "\n",
    "- Question 9. How many minutes duration does the gender member spends on trips? \n",
    "\n",
    "\n",
    "- Question 10. What is the users duration in mins?\n",
    "\n",
    "\n",
    "- Question 11. What is the birth year range of members?\n",
    "\n",
    "\n",
    "- Question 12. What is the relationship between the users and the gender during a bike trip?\n",
    "\n",
    "\n",
    "- Question 13. What is the distribution of days by duration given the genders?\n",
    "\n",
    "\n",
    "- Question 14. What is the distribution of days by duration given the genders?\n",
    "\n",
    "\n",
    "- Question 15. What is the distribution of days by duration given to the users?\n",
    "\n"
   ]
  },
  {
   "cell_type": "markdown",
   "id": "3682ac9b",
   "metadata": {},
   "source": [
    "## Preliminary Wrangling"
   ]
  },
  {
   "cell_type": "code",
   "execution_count": 1,
   "id": "28995bff",
   "metadata": {},
   "outputs": [],
   "source": [
    "#importing the required libraries\n",
    "import pandas as pd\n",
    "import matplotlib.pyplot as plt\n",
    "import numpy as np\n",
    "import seaborn as sns"
   ]
  },
  {
   "cell_type": "code",
   "execution_count": 2,
   "id": "9eab2791",
   "metadata": {
    "scrolled": true
   },
   "outputs": [
    {
     "data": {
      "text/html": [
       "<div>\n",
       "<style scoped>\n",
       "    .dataframe tbody tr th:only-of-type {\n",
       "        vertical-align: middle;\n",
       "    }\n",
       "\n",
       "    .dataframe tbody tr th {\n",
       "        vertical-align: top;\n",
       "    }\n",
       "\n",
       "    .dataframe thead th {\n",
       "        text-align: right;\n",
       "    }\n",
       "</style>\n",
       "<table border=\"1\" class=\"dataframe\">\n",
       "  <thead>\n",
       "    <tr style=\"text-align: right;\">\n",
       "      <th></th>\n",
       "      <th>duration_sec</th>\n",
       "      <th>start_time</th>\n",
       "      <th>end_time</th>\n",
       "      <th>start_station_id</th>\n",
       "      <th>start_station_name</th>\n",
       "      <th>start_station_latitude</th>\n",
       "      <th>start_station_longitude</th>\n",
       "      <th>end_station_id</th>\n",
       "      <th>end_station_name</th>\n",
       "      <th>end_station_latitude</th>\n",
       "      <th>end_station_longitude</th>\n",
       "      <th>bike_id</th>\n",
       "      <th>user_type</th>\n",
       "      <th>member_birth_year</th>\n",
       "      <th>member_gender</th>\n",
       "      <th>bike_share_for_all_trip</th>\n",
       "    </tr>\n",
       "  </thead>\n",
       "  <tbody>\n",
       "    <tr>\n",
       "      <th>0</th>\n",
       "      <td>52185</td>\n",
       "      <td>2019-02-28 17:32:10.1450</td>\n",
       "      <td>2019-03-01 08:01:55.9750</td>\n",
       "      <td>21.0</td>\n",
       "      <td>Montgomery St BART Station (Market St at 2nd St)</td>\n",
       "      <td>37.789625</td>\n",
       "      <td>-122.400811</td>\n",
       "      <td>13.0</td>\n",
       "      <td>Commercial St at Montgomery St</td>\n",
       "      <td>37.794231</td>\n",
       "      <td>-122.402923</td>\n",
       "      <td>4902</td>\n",
       "      <td>Customer</td>\n",
       "      <td>1984.0</td>\n",
       "      <td>Male</td>\n",
       "      <td>No</td>\n",
       "    </tr>\n",
       "    <tr>\n",
       "      <th>1</th>\n",
       "      <td>42521</td>\n",
       "      <td>2019-02-28 18:53:21.7890</td>\n",
       "      <td>2019-03-01 06:42:03.0560</td>\n",
       "      <td>23.0</td>\n",
       "      <td>The Embarcadero at Steuart St</td>\n",
       "      <td>37.791464</td>\n",
       "      <td>-122.391034</td>\n",
       "      <td>81.0</td>\n",
       "      <td>Berry St at 4th St</td>\n",
       "      <td>37.775880</td>\n",
       "      <td>-122.393170</td>\n",
       "      <td>2535</td>\n",
       "      <td>Customer</td>\n",
       "      <td>NaN</td>\n",
       "      <td>NaN</td>\n",
       "      <td>No</td>\n",
       "    </tr>\n",
       "    <tr>\n",
       "      <th>2</th>\n",
       "      <td>61854</td>\n",
       "      <td>2019-02-28 12:13:13.2180</td>\n",
       "      <td>2019-03-01 05:24:08.1460</td>\n",
       "      <td>86.0</td>\n",
       "      <td>Market St at Dolores St</td>\n",
       "      <td>37.769305</td>\n",
       "      <td>-122.426826</td>\n",
       "      <td>3.0</td>\n",
       "      <td>Powell St BART Station (Market St at 4th St)</td>\n",
       "      <td>37.786375</td>\n",
       "      <td>-122.404904</td>\n",
       "      <td>5905</td>\n",
       "      <td>Customer</td>\n",
       "      <td>1972.0</td>\n",
       "      <td>Male</td>\n",
       "      <td>No</td>\n",
       "    </tr>\n",
       "    <tr>\n",
       "      <th>3</th>\n",
       "      <td>36490</td>\n",
       "      <td>2019-02-28 17:54:26.0100</td>\n",
       "      <td>2019-03-01 04:02:36.8420</td>\n",
       "      <td>375.0</td>\n",
       "      <td>Grove St at Masonic Ave</td>\n",
       "      <td>37.774836</td>\n",
       "      <td>-122.446546</td>\n",
       "      <td>70.0</td>\n",
       "      <td>Central Ave at Fell St</td>\n",
       "      <td>37.773311</td>\n",
       "      <td>-122.444293</td>\n",
       "      <td>6638</td>\n",
       "      <td>Subscriber</td>\n",
       "      <td>1989.0</td>\n",
       "      <td>Other</td>\n",
       "      <td>No</td>\n",
       "    </tr>\n",
       "    <tr>\n",
       "      <th>4</th>\n",
       "      <td>1585</td>\n",
       "      <td>2019-02-28 23:54:18.5490</td>\n",
       "      <td>2019-03-01 00:20:44.0740</td>\n",
       "      <td>7.0</td>\n",
       "      <td>Frank H Ogawa Plaza</td>\n",
       "      <td>37.804562</td>\n",
       "      <td>-122.271738</td>\n",
       "      <td>222.0</td>\n",
       "      <td>10th Ave at E 15th St</td>\n",
       "      <td>37.792714</td>\n",
       "      <td>-122.248780</td>\n",
       "      <td>4898</td>\n",
       "      <td>Subscriber</td>\n",
       "      <td>1974.0</td>\n",
       "      <td>Male</td>\n",
       "      <td>Yes</td>\n",
       "    </tr>\n",
       "  </tbody>\n",
       "</table>\n",
       "</div>"
      ],
      "text/plain": [
       "   duration_sec                start_time                  end_time  \\\n",
       "0         52185  2019-02-28 17:32:10.1450  2019-03-01 08:01:55.9750   \n",
       "1         42521  2019-02-28 18:53:21.7890  2019-03-01 06:42:03.0560   \n",
       "2         61854  2019-02-28 12:13:13.2180  2019-03-01 05:24:08.1460   \n",
       "3         36490  2019-02-28 17:54:26.0100  2019-03-01 04:02:36.8420   \n",
       "4          1585  2019-02-28 23:54:18.5490  2019-03-01 00:20:44.0740   \n",
       "\n",
       "   start_station_id                                start_station_name  \\\n",
       "0              21.0  Montgomery St BART Station (Market St at 2nd St)   \n",
       "1              23.0                     The Embarcadero at Steuart St   \n",
       "2              86.0                           Market St at Dolores St   \n",
       "3             375.0                           Grove St at Masonic Ave   \n",
       "4               7.0                               Frank H Ogawa Plaza   \n",
       "\n",
       "   start_station_latitude  start_station_longitude  end_station_id  \\\n",
       "0               37.789625              -122.400811            13.0   \n",
       "1               37.791464              -122.391034            81.0   \n",
       "2               37.769305              -122.426826             3.0   \n",
       "3               37.774836              -122.446546            70.0   \n",
       "4               37.804562              -122.271738           222.0   \n",
       "\n",
       "                               end_station_name  end_station_latitude  \\\n",
       "0                Commercial St at Montgomery St             37.794231   \n",
       "1                            Berry St at 4th St             37.775880   \n",
       "2  Powell St BART Station (Market St at 4th St)             37.786375   \n",
       "3                        Central Ave at Fell St             37.773311   \n",
       "4                         10th Ave at E 15th St             37.792714   \n",
       "\n",
       "   end_station_longitude  bike_id   user_type  member_birth_year  \\\n",
       "0            -122.402923     4902    Customer             1984.0   \n",
       "1            -122.393170     2535    Customer                NaN   \n",
       "2            -122.404904     5905    Customer             1972.0   \n",
       "3            -122.444293     6638  Subscriber             1989.0   \n",
       "4            -122.248780     4898  Subscriber             1974.0   \n",
       "\n",
       "  member_gender bike_share_for_all_trip  \n",
       "0          Male                      No  \n",
       "1           NaN                      No  \n",
       "2          Male                      No  \n",
       "3         Other                      No  \n",
       "4          Male                     Yes  "
      ]
     },
     "execution_count": 2,
     "metadata": {},
     "output_type": "execute_result"
    }
   ],
   "source": [
    "#reading the csv file\n",
    "df = pd.read_csv('201902-fordgobike-tripdata.csv')\n",
    "df.head()"
   ]
  },
  {
   "cell_type": "markdown",
   "id": "1b9f03cb",
   "metadata": {},
   "source": [
    "## Data Accessing"
   ]
  },
  {
   "cell_type": "code",
   "execution_count": 3,
   "id": "3dddcb47",
   "metadata": {},
   "outputs": [
    {
     "name": "stdout",
     "output_type": "stream",
     "text": [
      "<class 'pandas.core.frame.DataFrame'>\n",
      "RangeIndex: 183412 entries, 0 to 183411\n",
      "Data columns (total 16 columns):\n",
      " #   Column                   Non-Null Count   Dtype  \n",
      "---  ------                   --------------   -----  \n",
      " 0   duration_sec             183412 non-null  int64  \n",
      " 1   start_time               183412 non-null  object \n",
      " 2   end_time                 183412 non-null  object \n",
      " 3   start_station_id         183215 non-null  float64\n",
      " 4   start_station_name       183215 non-null  object \n",
      " 5   start_station_latitude   183412 non-null  float64\n",
      " 6   start_station_longitude  183412 non-null  float64\n",
      " 7   end_station_id           183215 non-null  float64\n",
      " 8   end_station_name         183215 non-null  object \n",
      " 9   end_station_latitude     183412 non-null  float64\n",
      " 10  end_station_longitude    183412 non-null  float64\n",
      " 11  bike_id                  183412 non-null  int64  \n",
      " 12  user_type                183412 non-null  object \n",
      " 13  member_birth_year        175147 non-null  float64\n",
      " 14  member_gender            175147 non-null  object \n",
      " 15  bike_share_for_all_trip  183412 non-null  object \n",
      "dtypes: float64(7), int64(2), object(7)\n",
      "memory usage: 22.4+ MB\n"
     ]
    }
   ],
   "source": [
    "#information on the dtaset\n",
    "df.info()"
   ]
  },
  {
   "cell_type": "code",
   "execution_count": 4,
   "id": "0dad8850",
   "metadata": {},
   "outputs": [
    {
     "data": {
      "text/html": [
       "<div>\n",
       "<style scoped>\n",
       "    .dataframe tbody tr th:only-of-type {\n",
       "        vertical-align: middle;\n",
       "    }\n",
       "\n",
       "    .dataframe tbody tr th {\n",
       "        vertical-align: top;\n",
       "    }\n",
       "\n",
       "    .dataframe thead th {\n",
       "        text-align: right;\n",
       "    }\n",
       "</style>\n",
       "<table border=\"1\" class=\"dataframe\">\n",
       "  <thead>\n",
       "    <tr style=\"text-align: right;\">\n",
       "      <th></th>\n",
       "      <th>duration_sec</th>\n",
       "      <th>start_station_id</th>\n",
       "      <th>start_station_latitude</th>\n",
       "      <th>start_station_longitude</th>\n",
       "      <th>end_station_id</th>\n",
       "      <th>end_station_latitude</th>\n",
       "      <th>end_station_longitude</th>\n",
       "      <th>bike_id</th>\n",
       "      <th>member_birth_year</th>\n",
       "    </tr>\n",
       "  </thead>\n",
       "  <tbody>\n",
       "    <tr>\n",
       "      <th>count</th>\n",
       "      <td>183412.000000</td>\n",
       "      <td>183215.000000</td>\n",
       "      <td>183412.000000</td>\n",
       "      <td>183412.000000</td>\n",
       "      <td>183215.000000</td>\n",
       "      <td>183412.000000</td>\n",
       "      <td>183412.000000</td>\n",
       "      <td>183412.000000</td>\n",
       "      <td>175147.000000</td>\n",
       "    </tr>\n",
       "    <tr>\n",
       "      <th>mean</th>\n",
       "      <td>726.078435</td>\n",
       "      <td>138.590427</td>\n",
       "      <td>37.771223</td>\n",
       "      <td>-122.352664</td>\n",
       "      <td>136.249123</td>\n",
       "      <td>37.771427</td>\n",
       "      <td>-122.352250</td>\n",
       "      <td>4472.906375</td>\n",
       "      <td>1984.806437</td>\n",
       "    </tr>\n",
       "    <tr>\n",
       "      <th>std</th>\n",
       "      <td>1794.389780</td>\n",
       "      <td>111.778864</td>\n",
       "      <td>0.099581</td>\n",
       "      <td>0.117097</td>\n",
       "      <td>111.515131</td>\n",
       "      <td>0.099490</td>\n",
       "      <td>0.116673</td>\n",
       "      <td>1664.383394</td>\n",
       "      <td>10.116689</td>\n",
       "    </tr>\n",
       "    <tr>\n",
       "      <th>min</th>\n",
       "      <td>61.000000</td>\n",
       "      <td>3.000000</td>\n",
       "      <td>37.317298</td>\n",
       "      <td>-122.453704</td>\n",
       "      <td>3.000000</td>\n",
       "      <td>37.317298</td>\n",
       "      <td>-122.453704</td>\n",
       "      <td>11.000000</td>\n",
       "      <td>1878.000000</td>\n",
       "    </tr>\n",
       "    <tr>\n",
       "      <th>25%</th>\n",
       "      <td>325.000000</td>\n",
       "      <td>47.000000</td>\n",
       "      <td>37.770083</td>\n",
       "      <td>-122.412408</td>\n",
       "      <td>44.000000</td>\n",
       "      <td>37.770407</td>\n",
       "      <td>-122.411726</td>\n",
       "      <td>3777.000000</td>\n",
       "      <td>1980.000000</td>\n",
       "    </tr>\n",
       "    <tr>\n",
       "      <th>50%</th>\n",
       "      <td>514.000000</td>\n",
       "      <td>104.000000</td>\n",
       "      <td>37.780760</td>\n",
       "      <td>-122.398285</td>\n",
       "      <td>100.000000</td>\n",
       "      <td>37.781010</td>\n",
       "      <td>-122.398279</td>\n",
       "      <td>4958.000000</td>\n",
       "      <td>1987.000000</td>\n",
       "    </tr>\n",
       "    <tr>\n",
       "      <th>75%</th>\n",
       "      <td>796.000000</td>\n",
       "      <td>239.000000</td>\n",
       "      <td>37.797280</td>\n",
       "      <td>-122.286533</td>\n",
       "      <td>235.000000</td>\n",
       "      <td>37.797320</td>\n",
       "      <td>-122.288045</td>\n",
       "      <td>5502.000000</td>\n",
       "      <td>1992.000000</td>\n",
       "    </tr>\n",
       "    <tr>\n",
       "      <th>max</th>\n",
       "      <td>85444.000000</td>\n",
       "      <td>398.000000</td>\n",
       "      <td>37.880222</td>\n",
       "      <td>-121.874119</td>\n",
       "      <td>398.000000</td>\n",
       "      <td>37.880222</td>\n",
       "      <td>-121.874119</td>\n",
       "      <td>6645.000000</td>\n",
       "      <td>2001.000000</td>\n",
       "    </tr>\n",
       "  </tbody>\n",
       "</table>\n",
       "</div>"
      ],
      "text/plain": [
       "        duration_sec  start_station_id  start_station_latitude  \\\n",
       "count  183412.000000     183215.000000           183412.000000   \n",
       "mean      726.078435        138.590427               37.771223   \n",
       "std      1794.389780        111.778864                0.099581   \n",
       "min        61.000000          3.000000               37.317298   \n",
       "25%       325.000000         47.000000               37.770083   \n",
       "50%       514.000000        104.000000               37.780760   \n",
       "75%       796.000000        239.000000               37.797280   \n",
       "max     85444.000000        398.000000               37.880222   \n",
       "\n",
       "       start_station_longitude  end_station_id  end_station_latitude  \\\n",
       "count            183412.000000   183215.000000         183412.000000   \n",
       "mean               -122.352664      136.249123             37.771427   \n",
       "std                   0.117097      111.515131              0.099490   \n",
       "min                -122.453704        3.000000             37.317298   \n",
       "25%                -122.412408       44.000000             37.770407   \n",
       "50%                -122.398285      100.000000             37.781010   \n",
       "75%                -122.286533      235.000000             37.797320   \n",
       "max                -121.874119      398.000000             37.880222   \n",
       "\n",
       "       end_station_longitude        bike_id  member_birth_year  \n",
       "count          183412.000000  183412.000000      175147.000000  \n",
       "mean             -122.352250    4472.906375        1984.806437  \n",
       "std                 0.116673    1664.383394          10.116689  \n",
       "min              -122.453704      11.000000        1878.000000  \n",
       "25%              -122.411726    3777.000000        1980.000000  \n",
       "50%              -122.398279    4958.000000        1987.000000  \n",
       "75%              -122.288045    5502.000000        1992.000000  \n",
       "max              -121.874119    6645.000000        2001.000000  "
      ]
     },
     "execution_count": 4,
     "metadata": {},
     "output_type": "execute_result"
    }
   ],
   "source": [
    "#the description of the dataframe\n",
    "df.describe()"
   ]
  },
  {
   "cell_type": "code",
   "execution_count": 5,
   "id": "25b4665d",
   "metadata": {},
   "outputs": [
    {
     "data": {
      "text/plain": [
       "duration_sec                  0\n",
       "start_time                    0\n",
       "end_time                      0\n",
       "start_station_id            197\n",
       "start_station_name          197\n",
       "start_station_latitude        0\n",
       "start_station_longitude       0\n",
       "end_station_id              197\n",
       "end_station_name            197\n",
       "end_station_latitude          0\n",
       "end_station_longitude         0\n",
       "bike_id                       0\n",
       "user_type                     0\n",
       "member_birth_year          8265\n",
       "member_gender              8265\n",
       "bike_share_for_all_trip       0\n",
       "dtype: int64"
      ]
     },
     "execution_count": 5,
     "metadata": {},
     "output_type": "execute_result"
    }
   ],
   "source": [
    "#to ensure and confirming no null values in the data\n",
    "df.isnull().sum()"
   ]
  },
  {
   "cell_type": "code",
   "execution_count": 6,
   "id": "1956d4cf",
   "metadata": {},
   "outputs": [
    {
     "data": {
      "text/plain": [
       "(183412, 16)"
      ]
     },
     "execution_count": 6,
     "metadata": {},
     "output_type": "execute_result"
    }
   ],
   "source": [
    "#the number of rows and columns \n",
    "df.shape"
   ]
  },
  {
   "cell_type": "code",
   "execution_count": 7,
   "id": "8d1e25bc",
   "metadata": {},
   "outputs": [
    {
     "data": {
      "text/plain": [
       "False    183412\n",
       "dtype: int64"
      ]
     },
     "execution_count": 7,
     "metadata": {},
     "output_type": "execute_result"
    }
   ],
   "source": [
    "#counts of dupilicated values in each columns\n",
    "df.duplicated().value_counts()"
   ]
  },
  {
   "cell_type": "code",
   "execution_count": 8,
   "id": "d657b203",
   "metadata": {},
   "outputs": [
    {
     "data": {
      "text/plain": [
       "duration_sec                 4752\n",
       "start_time                 183401\n",
       "end_time                   183397\n",
       "start_station_id              329\n",
       "start_station_name            329\n",
       "start_station_latitude        334\n",
       "start_station_longitude       335\n",
       "end_station_id                329\n",
       "end_station_name              329\n",
       "end_station_latitude          335\n",
       "end_station_longitude         335\n",
       "bike_id                      4646\n",
       "user_type                       2\n",
       "member_birth_year              75\n",
       "member_gender                   3\n",
       "bike_share_for_all_trip         2\n",
       "dtype: int64"
      ]
     },
     "execution_count": 8,
     "metadata": {},
     "output_type": "execute_result"
    }
   ],
   "source": [
    "#the unique values in twitter enhanced archive csv information\n",
    "df.nunique()"
   ]
  },
  {
   "cell_type": "code",
   "execution_count": 9,
   "id": "e9c5f2b9",
   "metadata": {},
   "outputs": [
    {
     "data": {
      "text/plain": [
       "False    183412\n",
       "dtype: int64"
      ]
     },
     "execution_count": 9,
     "metadata": {},
     "output_type": "execute_result"
    }
   ],
   "source": [
    "#checking duplicates\n",
    "df.duplicated().value_counts()"
   ]
  },
  {
   "cell_type": "markdown",
   "id": "098dce24",
   "metadata": {},
   "source": [
    "## Creating a Copy of The Dataset"
   ]
  },
  {
   "cell_type": "code",
   "execution_count": 10,
   "id": "9ae54a82",
   "metadata": {},
   "outputs": [],
   "source": [
    "df_bike = df.copy()"
   ]
  },
  {
   "cell_type": "markdown",
   "id": "a778794c",
   "metadata": {},
   "source": [
    "## Data Cleaning"
   ]
  },
  {
   "cell_type": "markdown",
   "id": "731ce5ad",
   "metadata": {},
   "source": [
    "#### Issue 1: Transforming the date dataframe to datetime"
   ]
  },
  {
   "cell_type": "code",
   "execution_count": 11,
   "id": "378c6b72",
   "metadata": {},
   "outputs": [],
   "source": [
    "# converting the start time date to datetime \n",
    "df_bike['start_time'] = pd.to_datetime(df_bike['start_time']).dt.strftime('%Y-%m-%d')\n",
    "#converting the start time from string to datetime\n",
    "df_bike['start_time'] = df_bike['start_time'].astype('datetime64[ns]')\n",
    "df_bike['start_time_week'] = pd.to_datetime(df_bike.start_time).dt.day_name()\n",
    "\n",
    "# converting the end time date to datetime \n",
    "df_bike['end_time'] = pd.to_datetime(df_bike['end_time']).dt.strftime('%Y-%m-%d')\n",
    "#converting the end time from string to datetime\n",
    "df_bike['end_time'] = df_bike['end_time'].astype('datetime64[ns]')"
   ]
  },
  {
   "cell_type": "markdown",
   "id": "2fa9b4bf",
   "metadata": {},
   "source": [
    "#### Issue 2: Filling the `start_station_id`  and `end_station_id` null values with zero, this is because each bike has its unique starting and ending ids"
   ]
  },
  {
   "cell_type": "code",
   "execution_count": 12,
   "id": "6cf968be",
   "metadata": {},
   "outputs": [
    {
     "data": {
      "text/plain": [
       "197"
      ]
     },
     "execution_count": 12,
     "metadata": {},
     "output_type": "execute_result"
    }
   ],
   "source": [
    "#confirming the null values count for start time\n",
    "df_bike['start_station_id'].isnull().sum()"
   ]
  },
  {
   "cell_type": "code",
   "execution_count": 13,
   "id": "af3e0b16",
   "metadata": {},
   "outputs": [
    {
     "data": {
      "text/plain": [
       "197"
      ]
     },
     "execution_count": 13,
     "metadata": {},
     "output_type": "execute_result"
    }
   ],
   "source": [
    "#confirming the null values count for end time\n",
    "df_bike['end_station_id'].isnull().sum()"
   ]
  },
  {
   "cell_type": "code",
   "execution_count": 14,
   "id": "1bbb76ec",
   "metadata": {},
   "outputs": [],
   "source": [
    "#filling the null values with zero\n",
    "df_bike['start_station_id'] =  df_bike['start_station_id'].fillna(0)\n",
    "df_bike['end_station_id'] =  df_bike['end_station_id'].fillna(0)"
   ]
  },
  {
   "cell_type": "code",
   "execution_count": 15,
   "id": "3e8cd7d5",
   "metadata": {},
   "outputs": [],
   "source": [
    "#convert the datatype to int\n",
    "df_bike['start_station_id'] = df_bike['start_station_id'].astype(int)\n",
    "df_bike['end_station_id']= df_bike['end_station_id'].astype(int)"
   ]
  },
  {
   "cell_type": "markdown",
   "id": "295aa714",
   "metadata": {},
   "source": [
    "#### Issue 3: Filling the `start_station_name`  and `end_station_name` null values with None"
   ]
  },
  {
   "cell_type": "code",
   "execution_count": 16,
   "id": "5c7bc5fc",
   "metadata": {},
   "outputs": [
    {
     "data": {
      "text/plain": [
       "197"
      ]
     },
     "execution_count": 16,
     "metadata": {},
     "output_type": "execute_result"
    }
   ],
   "source": [
    "#confirming the null values count for start_station_name\n",
    "df_bike['start_station_name'].isnull().sum()"
   ]
  },
  {
   "cell_type": "code",
   "execution_count": 17,
   "id": "c3cb14a2",
   "metadata": {},
   "outputs": [
    {
     "data": {
      "text/plain": [
       "197"
      ]
     },
     "execution_count": 17,
     "metadata": {},
     "output_type": "execute_result"
    }
   ],
   "source": [
    "#confirming the null values count for end_station_name\n",
    "df_bike['end_station_name'].isnull().sum()"
   ]
  },
  {
   "cell_type": "code",
   "execution_count": 18,
   "id": "fe6a7e53",
   "metadata": {},
   "outputs": [],
   "source": [
    "#filling their null values with none\n",
    "df_bike['start_station_name'] = df_bike['start_station_name'].fillna('None')\n",
    "df_bike['end_station_name'] =  df_bike['end_station_name'].fillna('None')"
   ]
  },
  {
   "cell_type": "markdown",
   "id": "832bf546",
   "metadata": {},
   "source": [
    "#### Issue 4: Replacing the `member_birth_year` null values with zero"
   ]
  },
  {
   "cell_type": "code",
   "execution_count": 19,
   "id": "d6633832",
   "metadata": {},
   "outputs": [],
   "source": [
    "#filling their null values with zero\n",
    "df_bike['member_birth_year'] =  df_bike['member_birth_year'].fillna(0)"
   ]
  },
  {
   "cell_type": "code",
   "execution_count": 20,
   "id": "30f29436",
   "metadata": {},
   "outputs": [],
   "source": [
    "#convert the datatype to int\n",
    "df_bike['member_birth_year'] = df_bike['member_birth_year'].astype(int)"
   ]
  },
  {
   "cell_type": "markdown",
   "id": "b2230dd5",
   "metadata": {},
   "source": [
    "#### Issue 5: Replacing the `member_gender` null values with Other"
   ]
  },
  {
   "cell_type": "code",
   "execution_count": 21,
   "id": "c1ed66ba",
   "metadata": {},
   "outputs": [],
   "source": [
    "#filling the null values\n",
    "df_bike['member_gender'] = df_bike['member_gender'].fillna('Other')"
   ]
  },
  {
   "cell_type": "markdown",
   "id": "aa5f1295",
   "metadata": {},
   "source": [
    "#### Issue 6: Conversion of the `bike duration sec` to mins"
   ]
  },
  {
   "cell_type": "code",
   "execution_count": 22,
   "id": "95003a57",
   "metadata": {},
   "outputs": [],
   "source": [
    "#conversion to mins\n",
    "df_bike['duration_mins'] = round(df_bike['duration_sec']/60 , 2)"
   ]
  },
  {
   "cell_type": "code",
   "execution_count": 23,
   "id": "4221a8af",
   "metadata": {},
   "outputs": [],
   "source": [
    "#converting to int datatype\n",
    "df_bike['duration_mins']= df_bike['duration_mins'].astype(int)"
   ]
  },
  {
   "cell_type": "markdown",
   "id": "b5cafc56",
   "metadata": {},
   "source": [
    "## Exporting the Cleaned data to a New CSV"
   ]
  },
  {
   "cell_type": "code",
   "execution_count": 24,
   "id": "1719d23e",
   "metadata": {},
   "outputs": [],
   "source": [
    "df_bikes = df_bike.to_csv('fordgobike-tripdata_clean.csv', index = False)"
   ]
  },
  {
   "cell_type": "code",
   "execution_count": 25,
   "id": "a333a54c",
   "metadata": {
    "scrolled": false
   },
   "outputs": [
    {
     "data": {
      "text/html": [
       "<div>\n",
       "<style scoped>\n",
       "    .dataframe tbody tr th:only-of-type {\n",
       "        vertical-align: middle;\n",
       "    }\n",
       "\n",
       "    .dataframe tbody tr th {\n",
       "        vertical-align: top;\n",
       "    }\n",
       "\n",
       "    .dataframe thead th {\n",
       "        text-align: right;\n",
       "    }\n",
       "</style>\n",
       "<table border=\"1\" class=\"dataframe\">\n",
       "  <thead>\n",
       "    <tr style=\"text-align: right;\">\n",
       "      <th></th>\n",
       "      <th>duration_sec</th>\n",
       "      <th>start_time</th>\n",
       "      <th>end_time</th>\n",
       "      <th>start_station_id</th>\n",
       "      <th>start_station_name</th>\n",
       "      <th>start_station_latitude</th>\n",
       "      <th>start_station_longitude</th>\n",
       "      <th>end_station_id</th>\n",
       "      <th>end_station_name</th>\n",
       "      <th>end_station_latitude</th>\n",
       "      <th>end_station_longitude</th>\n",
       "      <th>bike_id</th>\n",
       "      <th>user_type</th>\n",
       "      <th>member_birth_year</th>\n",
       "      <th>member_gender</th>\n",
       "      <th>bike_share_for_all_trip</th>\n",
       "      <th>start_time_week</th>\n",
       "      <th>duration_mins</th>\n",
       "    </tr>\n",
       "  </thead>\n",
       "  <tbody>\n",
       "    <tr>\n",
       "      <th>74769</th>\n",
       "      <td>509</td>\n",
       "      <td>2019-02-19</td>\n",
       "      <td>2019-02-19</td>\n",
       "      <td>285</td>\n",
       "      <td>Webster St at O'Farrell St</td>\n",
       "      <td>37.783521</td>\n",
       "      <td>-122.431158</td>\n",
       "      <td>34</td>\n",
       "      <td>Father Alfred E Boeddeker Park</td>\n",
       "      <td>37.783988</td>\n",
       "      <td>-122.412408</td>\n",
       "      <td>5318</td>\n",
       "      <td>Subscriber</td>\n",
       "      <td>1964</td>\n",
       "      <td>Female</td>\n",
       "      <td>No</td>\n",
       "      <td>Tuesday</td>\n",
       "      <td>8</td>\n",
       "    </tr>\n",
       "  </tbody>\n",
       "</table>\n",
       "</div>"
      ],
      "text/plain": [
       "       duration_sec  start_time    end_time  start_station_id  \\\n",
       "74769           509  2019-02-19  2019-02-19               285   \n",
       "\n",
       "               start_station_name  start_station_latitude  \\\n",
       "74769  Webster St at O'Farrell St               37.783521   \n",
       "\n",
       "       start_station_longitude  end_station_id  \\\n",
       "74769              -122.431158              34   \n",
       "\n",
       "                     end_station_name  end_station_latitude  \\\n",
       "74769  Father Alfred E Boeddeker Park             37.783988   \n",
       "\n",
       "       end_station_longitude  bike_id   user_type  member_birth_year  \\\n",
       "74769            -122.412408     5318  Subscriber               1964   \n",
       "\n",
       "      member_gender bike_share_for_all_trip start_time_week  duration_mins  \n",
       "74769        Female                      No         Tuesday              8  "
      ]
     },
     "execution_count": 25,
     "metadata": {},
     "output_type": "execute_result"
    }
   ],
   "source": [
    "df_bikes = pd.read_csv('fordgobike-tripdata_clean.csv')\n",
    "df_bikes.sample()"
   ]
  },
  {
   "cell_type": "code",
   "execution_count": 26,
   "id": "f6926fe2",
   "metadata": {},
   "outputs": [
    {
     "data": {
      "text/plain": [
       "4646"
      ]
     },
     "execution_count": 26,
     "metadata": {},
     "output_type": "execute_result"
    }
   ],
   "source": [
    "df_bikes.bike_id.nunique()"
   ]
  },
  {
   "cell_type": "markdown",
   "id": "bafa0c0f",
   "metadata": {},
   "source": [
    "### What is the structure of your dataset?\n",
    "\n",
    "> This dataset consists of over 180K records with 16 columns, majorly in 2019. Some of the variables include \n",
    "- start time and start station: The exact time the trip started and the location. \n",
    "- end time and end station: The time the trip ended and the location. \n",
    "- The bike id: Each bike has its own unique id. \n",
    "- The gender: Here, I can see the male, female, and other genders, which further analysis would focus on.\n",
    "\n",
    "During data cleaning, I was able to extract some information, such as the weekly trip durations.\n",
    "\n",
    "### What is/are the main feature(s) of interest in your dataset?\n",
    "\n",
    "> My main interest in this dataset is gender: I'd like to see how the proportion of female trips differs from other genders. \n",
    "> The users: The second feature I would like to check and understand is how many people have subscribed to the bike sharing plan.\n",
    "\n",
    "### What features in the dataset do you think will help support your investigation into your feature(s) of interest?\n",
    "\n",
    "> All of these characteristics would help my investigation into this dataset. However, the start and end times would be very crucial to further analysis of this dataset."
   ]
  },
  {
   "cell_type": "markdown",
   "id": "e2628f3d",
   "metadata": {},
   "source": [
    "## Univariate Exploration\n",
    "> In this section, we would be looking at exploring the distribution of a single variable in the dataset"
   ]
  },
  {
   "cell_type": "markdown",
   "id": "4b4d5e39",
   "metadata": {},
   "source": [
    "### <span style='color:blue'> Question 1. What is the distribution of users? </span>"
   ]
  },
  {
   "cell_type": "code",
   "execution_count": 27,
   "id": "828501d2",
   "metadata": {},
   "outputs": [
    {
     "data": {
      "text/html": [
       "<div>\n",
       "<style scoped>\n",
       "    .dataframe tbody tr th:only-of-type {\n",
       "        vertical-align: middle;\n",
       "    }\n",
       "\n",
       "    .dataframe tbody tr th {\n",
       "        vertical-align: top;\n",
       "    }\n",
       "\n",
       "    .dataframe thead th {\n",
       "        text-align: right;\n",
       "    }\n",
       "</style>\n",
       "<table border=\"1\" class=\"dataframe\">\n",
       "  <thead>\n",
       "    <tr style=\"text-align: right;\">\n",
       "      <th></th>\n",
       "      <th>user_type</th>\n",
       "      <th>counts</th>\n",
       "    </tr>\n",
       "  </thead>\n",
       "  <tbody>\n",
       "    <tr>\n",
       "      <th>0</th>\n",
       "      <td>Customer</td>\n",
       "      <td>19868</td>\n",
       "    </tr>\n",
       "    <tr>\n",
       "      <th>1</th>\n",
       "      <td>Subscriber</td>\n",
       "      <td>163544</td>\n",
       "    </tr>\n",
       "  </tbody>\n",
       "</table>\n",
       "</div>"
      ],
      "text/plain": [
       "    user_type  counts\n",
       "0    Customer   19868\n",
       "1  Subscriber  163544"
      ]
     },
     "execution_count": 27,
     "metadata": {},
     "output_type": "execute_result"
    }
   ],
   "source": [
    "#grouping based the user type\n",
    "df_users =  df_bikes['user_type'].groupby(df_bikes['user_type']).size().reset_index(name='counts')\n",
    "df_users"
   ]
  },
  {
   "cell_type": "code",
   "execution_count": 28,
   "id": "7870c710",
   "metadata": {
    "scrolled": true
   },
   "outputs": [
    {
     "data": {
      "image/png": "[encoded data removed]",
      "text/plain": [
       "<Figure size 504x504 with 1 Axes>"
      ]
     },
     "metadata": {},
     "output_type": "display_data"
    }
   ],
   "source": [
    "#plotting the results\n",
    "fig = plt.gcf()\n",
    "fig.set_size_inches(7,7) \n",
    "explode = [0, 0]\n",
    "df_bikes['user_type'].groupby( df_bikes['user_type']).count().plot(kind='pie',  autopct='%1.0f%%',  startangle=30,\n",
    "        colors = ['#cea9bc', '#0a417a'], title = 'bikes users distribution', explode = explode)\n",
    "\n",
    "#setting the properties for the chart\n",
    "plt.axis('equal')\n",
    "plt.legend(loc = 'upper left')\n",
    "plt.show()"
   ]
  },
  {
   "cell_type": "markdown",
   "id": "1582b9ce",
   "metadata": {},
   "source": [
    "- The chart above indicates that there are more subscribers than Customers. This shows a lot of people actually subscribed to the bike sharing plan."
   ]
  },
  {
   "cell_type": "markdown",
   "id": "ad0ccbb5",
   "metadata": {},
   "source": [
    "### <span style='color:blue'> Question 2. What is the distribution of gender? </span>"
   ]
  },
  {
   "cell_type": "code",
   "execution_count": 29,
   "id": "baf2dba6",
   "metadata": {
    "scrolled": false
   },
   "outputs": [
    {
     "data": {
      "text/html": [
       "<div>\n",
       "<style scoped>\n",
       "    .dataframe tbody tr th:only-of-type {\n",
       "        vertical-align: middle;\n",
       "    }\n",
       "\n",
       "    .dataframe tbody tr th {\n",
       "        vertical-align: top;\n",
       "    }\n",
       "\n",
       "    .dataframe thead th {\n",
       "        text-align: right;\n",
       "    }\n",
       "</style>\n",
       "<table border=\"1\" class=\"dataframe\">\n",
       "  <thead>\n",
       "    <tr style=\"text-align: right;\">\n",
       "      <th></th>\n",
       "      <th>member_gender</th>\n",
       "      <th>counts</th>\n",
       "    </tr>\n",
       "  </thead>\n",
       "  <tbody>\n",
       "    <tr>\n",
       "      <th>0</th>\n",
       "      <td>Female</td>\n",
       "      <td>40844</td>\n",
       "    </tr>\n",
       "    <tr>\n",
       "      <th>1</th>\n",
       "      <td>Male</td>\n",
       "      <td>130651</td>\n",
       "    </tr>\n",
       "    <tr>\n",
       "      <th>2</th>\n",
       "      <td>Other</td>\n",
       "      <td>11917</td>\n",
       "    </tr>\n",
       "  </tbody>\n",
       "</table>\n",
       "</div>"
      ],
      "text/plain": [
       "  member_gender  counts\n",
       "0        Female   40844\n",
       "1          Male  130651\n",
       "2         Other   11917"
      ]
     },
     "execution_count": 29,
     "metadata": {},
     "output_type": "execute_result"
    }
   ],
   "source": [
    "#grouping based on the user type\n",
    "df_members =  df_bikes['member_gender'].groupby(df_bikes['member_gender']).size().reset_index(name='counts')\n",
    "df_members"
   ]
  },
  {
   "cell_type": "code",
   "execution_count": 30,
   "id": "42f5e8a9",
   "metadata": {},
   "outputs": [],
   "source": [
    "#title and labels function\n",
    "def plot_lables(plt, ax, title, x_title, y_title,fontsize_title, fontsize_xlabel, fontsize_ylabel ):\n",
    "    ax.grid(False)\n",
    "    ax.set_title(title, fontsize = fontsize_title)\n",
    "    ax.set_xlabel(x_title, fontsize = fontsize_xlabel)\n",
    "    ax.set_ylabel(y_title, fontsize = fontsize_ylabel)\n",
    "    plt.show()"
   ]
  },
  {
   "cell_type": "code",
   "execution_count": 31,
   "id": "90679f91",
   "metadata": {},
   "outputs": [
    {
     "data": {
      "image/png": "[encoded data removed]",
      "text/plain": [
       "<Figure size 720x360 with 1 Axes>"
      ]
     },
     "metadata": {
      "needs_background": "light"
     },
     "output_type": "display_data"
    }
   ],
   "source": [
    "# plotting the results\n",
    "plt.figure(figsize=(10,5))\n",
    "ax = sns.barplot(x = 'member_gender', y = 'counts', data = df_members, palette = 'winter_r')\n",
    "plot_lables(plt, ax, 'Distribution of users', 'users', 'users counts', 15, 10, 10)"
   ]
  },
  {
   "cell_type": "markdown",
   "id": "70c8cdd8",
   "metadata": {},
   "source": [
    "- It can be seen that there is a wide range of male users that supercedes both the female and other genders."
   ]
  },
  {
   "cell_type": "markdown",
   "id": "1a1b75fb",
   "metadata": {},
   "source": [
    "### <span style='color:blue'> Question 3. How do we distribute users' birth years across the board? </span>"
   ]
  },
  {
   "cell_type": "code",
   "execution_count": 32,
   "id": "0fa2d5a4",
   "metadata": {
    "scrolled": true
   },
   "outputs": [],
   "source": [
    "#categorising birth year to different year ranges\n",
    "bins = [-1, 1900, 1910, 1920, 1930, 1940, 1950, 1960, 1970, 1980, 1990, 2000, np.inf]\n",
    "names = ['<1900','1990-1910', '1910-1920','1920-1930', '1930-1940', '1940-1950',\n",
    "         '1950-1960','1960-1970','1970-1980', '1980-1990', '1990-2000', '2000+']\n",
    "        \n",
    "#grouping year into different year groups \n",
    "df_bikes['birth_year_ranges'] = pd.cut(df_bikes['member_birth_year'], bins, labels=names)\n",
    "\n",
    "#Creating an index for year groups to enable in an ascending order\n",
    "birth_year_index = ['<1900','1990-1910', '1910-1920','1920-1930', '1930-1940', '1940-1950', \n",
    "                    '1950-1960','1960-1970','1970-1980', '1980-1990', '1990-2000', '2000+']\n",
    "# Ordering the index\n",
    "df_bikes['birth_year_ranges'] = pd.Categorical(df_bikes['birth_year_ranges'], \n",
    "                                categories=birth_year_index, ordered=True)"
   ]
  },
  {
   "cell_type": "code",
   "execution_count": 33,
   "id": "e506d99f",
   "metadata": {
    "scrolled": true
   },
   "outputs": [
    {
     "data": {
      "text/html": [
       "<div>\n",
       "<style scoped>\n",
       "    .dataframe tbody tr th:only-of-type {\n",
       "        vertical-align: middle;\n",
       "    }\n",
       "\n",
       "    .dataframe tbody tr th {\n",
       "        vertical-align: top;\n",
       "    }\n",
       "\n",
       "    .dataframe thead th {\n",
       "        text-align: right;\n",
       "    }\n",
       "</style>\n",
       "<table border=\"1\" class=\"dataframe\">\n",
       "  <thead>\n",
       "    <tr style=\"text-align: right;\">\n",
       "      <th></th>\n",
       "      <th>birth_year_ranges</th>\n",
       "      <th>count</th>\n",
       "    </tr>\n",
       "  </thead>\n",
       "  <tbody>\n",
       "    <tr>\n",
       "      <th>9</th>\n",
       "      <td>1980-1990</td>\n",
       "      <td>72736</td>\n",
       "    </tr>\n",
       "    <tr>\n",
       "      <th>10</th>\n",
       "      <td>1990-2000</td>\n",
       "      <td>56691</td>\n",
       "    </tr>\n",
       "    <tr>\n",
       "      <th>8</th>\n",
       "      <td>1970-1980</td>\n",
       "      <td>27826</td>\n",
       "    </tr>\n",
       "    <tr>\n",
       "      <th>7</th>\n",
       "      <td>1960-1970</td>\n",
       "      <td>12899</td>\n",
       "    </tr>\n",
       "    <tr>\n",
       "      <th>0</th>\n",
       "      <td>&lt;1900</td>\n",
       "      <td>8319</td>\n",
       "    </tr>\n",
       "    <tr>\n",
       "      <th>6</th>\n",
       "      <td>1950-1960</td>\n",
       "      <td>4109</td>\n",
       "    </tr>\n",
       "    <tr>\n",
       "      <th>5</th>\n",
       "      <td>1940-1950</td>\n",
       "      <td>649</td>\n",
       "    </tr>\n",
       "    <tr>\n",
       "      <th>4</th>\n",
       "      <td>1930-1940</td>\n",
       "      <td>125</td>\n",
       "    </tr>\n",
       "    <tr>\n",
       "      <th>11</th>\n",
       "      <td>2000+</td>\n",
       "      <td>34</td>\n",
       "    </tr>\n",
       "    <tr>\n",
       "      <th>1</th>\n",
       "      <td>1990-1910</td>\n",
       "      <td>18</td>\n",
       "    </tr>\n",
       "    <tr>\n",
       "      <th>2</th>\n",
       "      <td>1910-1920</td>\n",
       "      <td>3</td>\n",
       "    </tr>\n",
       "    <tr>\n",
       "      <th>3</th>\n",
       "      <td>1920-1930</td>\n",
       "      <td>3</td>\n",
       "    </tr>\n",
       "  </tbody>\n",
       "</table>\n",
       "</div>"
      ],
      "text/plain": [
       "   birth_year_ranges  count\n",
       "9          1980-1990  72736\n",
       "10         1990-2000  56691\n",
       "8          1970-1980  27826\n",
       "7          1960-1970  12899\n",
       "0              <1900   8319\n",
       "6          1950-1960   4109\n",
       "5          1940-1950    649\n",
       "4          1930-1940    125\n",
       "11             2000+     34\n",
       "1          1990-1910     18\n",
       "2          1910-1920      3\n",
       "3          1920-1930      3"
      ]
     },
     "execution_count": 33,
     "metadata": {},
     "output_type": "execute_result"
    }
   ],
   "source": [
    "#grouping the members based on their stages\n",
    "df_year_members = df_bikes.groupby(['birth_year_ranges'])['birth_year_ranges'].count().reset_index(\n",
    "            name='count').sort_values(['count'], \n",
    "            ascending=False)\n",
    "df_year_members"
   ]
  },
  {
   "cell_type": "code",
   "execution_count": 34,
   "id": "c20a6e37",
   "metadata": {
    "scrolled": true
   },
   "outputs": [
    {
     "data": {
      "image/png": "[encoded data removed]",
      "text/plain": [
       "<Figure size 1656x720 with 1 Axes>"
      ]
     },
     "metadata": {
      "needs_background": "light"
     },
     "output_type": "display_data"
    }
   ],
   "source": [
    "#plotting the results using a bar chart\n",
    "fig, ax = plt.subplots(figsize=(23,10),  sharex=True)\n",
    "ax = sns.barplot(x = 'birth_year_ranges', y = 'count', data = df_year_members, palette = 'winter_r', linewidth = 1)\n",
    "plot_lables(plt, ax, 'Birth year distribution', 'members birth years', 'year counts', 15, 10, 10)"
   ]
  },
  {
   "cell_type": "markdown",
   "id": "58acc4f3",
   "metadata": {},
   "source": [
    "- From this chart above, the birth year between 1980 and 2000 (age group between 39 and 20) are the dominant riders, i.e., the highest population of riders."
   ]
  },
  {
   "cell_type": "markdown",
   "id": "9ee8f500",
   "metadata": {},
   "source": [
    "### <span style='color:blue'> Question 4. What is the distribution of bike duration in minutes? </span>"
   ]
  },
  {
   "cell_type": "code",
   "execution_count": 35,
   "id": "4304beb1",
   "metadata": {
    "scrolled": false
   },
   "outputs": [
    {
     "data": {
      "text/plain": [
       "count    183412.000000\n",
       "mean         11.609393\n",
       "std          29.908067\n",
       "min           1.000000\n",
       "25%           5.000000\n",
       "50%           8.000000\n",
       "75%          13.000000\n",
       "max        1424.000000\n",
       "Name: duration_mins, dtype: float64"
      ]
     },
     "execution_count": 35,
     "metadata": {},
     "output_type": "execute_result"
    }
   ],
   "source": [
    "#checking for the min and max bike duration in mins\n",
    "df_bikes['duration_mins'].describe()"
   ]
  },
  {
   "cell_type": "code",
   "execution_count": 36,
   "id": "54008c38",
   "metadata": {
    "scrolled": true
   },
   "outputs": [],
   "source": [
    "#categorising the bike min duration into bins\n",
    "bins = [-1, 4.0, 4.5, 5.0, 5.5, 6.0, 6.5, 7.0, 7.5,8.0,8.5,9.0,9.5,10.0, 50.0, 100.0, np.inf]\n",
    "names = ['<4.0','4.0-4.5','4.5-5.0','5.0-5.5','5.5-6.0','6.0-6.5','6.5-7.0', '7.0-7.5','7.5-8.0',\n",
    "         '8.0-8.5','8.5-9.0','9.0-9.5','9.5-10.0','10.0-50.0','50.0-100.0','100.0+']\n",
    "\n",
    "df_bikes['mins_duration'] = pd.cut(df_bikes['duration_mins'], bins, labels=names)\n",
    "duration_mins_index = names\n",
    "\n",
    "# Ordering the index\n",
    "df_bikes['duration_mins_ranges'] = pd.Categorical(df_bikes['mins_duration'], \n",
    "                                categories=duration_mins_index, ordered=True)"
   ]
  },
  {
   "cell_type": "code",
   "execution_count": 37,
   "id": "f6f117b8",
   "metadata": {
    "scrolled": true
   },
   "outputs": [
    {
     "data": {
      "text/html": [
       "<div>\n",
       "<style scoped>\n",
       "    .dataframe tbody tr th:only-of-type {\n",
       "        vertical-align: middle;\n",
       "    }\n",
       "\n",
       "    .dataframe tbody tr th {\n",
       "        vertical-align: top;\n",
       "    }\n",
       "\n",
       "    .dataframe thead th {\n",
       "        text-align: right;\n",
       "    }\n",
       "</style>\n",
       "<table border=\"1\" class=\"dataframe\">\n",
       "  <thead>\n",
       "    <tr style=\"text-align: right;\">\n",
       "      <th></th>\n",
       "      <th>duration_mins_ranges</th>\n",
       "      <th>count</th>\n",
       "    </tr>\n",
       "  </thead>\n",
       "  <tbody>\n",
       "    <tr>\n",
       "      <th>13</th>\n",
       "      <td>10.0-50.0</td>\n",
       "      <td>62341</td>\n",
       "    </tr>\n",
       "    <tr>\n",
       "      <th>0</th>\n",
       "      <td>&lt;4.0</td>\n",
       "      <td>39224</td>\n",
       "    </tr>\n",
       "    <tr>\n",
       "      <th>2</th>\n",
       "      <td>4.5-5.0</td>\n",
       "      <td>15660</td>\n",
       "    </tr>\n",
       "    <tr>\n",
       "      <th>4</th>\n",
       "      <td>5.5-6.0</td>\n",
       "      <td>14936</td>\n",
       "    </tr>\n",
       "    <tr>\n",
       "      <th>6</th>\n",
       "      <td>6.5-7.0</td>\n",
       "      <td>14185</td>\n",
       "    </tr>\n",
       "    <tr>\n",
       "      <th>8</th>\n",
       "      <td>7.5-8.0</td>\n",
       "      <td>12972</td>\n",
       "    </tr>\n",
       "    <tr>\n",
       "      <th>10</th>\n",
       "      <td>8.5-9.0</td>\n",
       "      <td>11494</td>\n",
       "    </tr>\n",
       "    <tr>\n",
       "      <th>12</th>\n",
       "      <td>9.5-10.0</td>\n",
       "      <td>10352</td>\n",
       "    </tr>\n",
       "    <tr>\n",
       "      <th>14</th>\n",
       "      <td>50.0-100.0</td>\n",
       "      <td>1348</td>\n",
       "    </tr>\n",
       "    <tr>\n",
       "      <th>15</th>\n",
       "      <td>100.0+</td>\n",
       "      <td>900</td>\n",
       "    </tr>\n",
       "    <tr>\n",
       "      <th>1</th>\n",
       "      <td>4.0-4.5</td>\n",
       "      <td>0</td>\n",
       "    </tr>\n",
       "    <tr>\n",
       "      <th>3</th>\n",
       "      <td>5.0-5.5</td>\n",
       "      <td>0</td>\n",
       "    </tr>\n",
       "    <tr>\n",
       "      <th>5</th>\n",
       "      <td>6.0-6.5</td>\n",
       "      <td>0</td>\n",
       "    </tr>\n",
       "    <tr>\n",
       "      <th>7</th>\n",
       "      <td>7.0-7.5</td>\n",
       "      <td>0</td>\n",
       "    </tr>\n",
       "    <tr>\n",
       "      <th>9</th>\n",
       "      <td>8.0-8.5</td>\n",
       "      <td>0</td>\n",
       "    </tr>\n",
       "    <tr>\n",
       "      <th>11</th>\n",
       "      <td>9.0-9.5</td>\n",
       "      <td>0</td>\n",
       "    </tr>\n",
       "  </tbody>\n",
       "</table>\n",
       "</div>"
      ],
      "text/plain": [
       "   duration_mins_ranges  count\n",
       "13            10.0-50.0  62341\n",
       "0                  <4.0  39224\n",
       "2               4.5-5.0  15660\n",
       "4               5.5-6.0  14936\n",
       "6               6.5-7.0  14185\n",
       "8               7.5-8.0  12972\n",
       "10              8.5-9.0  11494\n",
       "12             9.5-10.0  10352\n",
       "14           50.0-100.0   1348\n",
       "15               100.0+    900\n",
       "1               4.0-4.5      0\n",
       "3               5.0-5.5      0\n",
       "5               6.0-6.5      0\n",
       "7               7.0-7.5      0\n",
       "9               8.0-8.5      0\n",
       "11              9.0-9.5      0"
      ]
     },
     "execution_count": 37,
     "metadata": {},
     "output_type": "execute_result"
    }
   ],
   "source": [
    "#grouping the their ranges by count\n",
    "df_bikes_duration = df_bikes.groupby(['duration_mins_ranges'])['duration_mins_ranges'].count().reset_index(\n",
    "            name='count').sort_values(['count'], \n",
    "            ascending=False)\n",
    "df_bikes_duration"
   ]
  },
  {
   "cell_type": "code",
   "execution_count": 38,
   "id": "dee51af1",
   "metadata": {},
   "outputs": [
    {
     "data": {
      "image/png": "[encoded data removed]",
      "text/plain": [
       "<Figure size 1080x576 with 1 Axes>"
      ]
     },
     "metadata": {
      "needs_background": "light"
     },
     "output_type": "display_data"
    }
   ],
   "source": [
    "# plotting the results\n",
    "plt.figure(figsize=(15,8))\n",
    "ax = sns.barplot(x = 'count', y = 'duration_mins_ranges', data = df_bikes_duration,palette = 'winter_r', linewidth = 1)\n",
    "ax.grid(False)\n",
    "\n",
    "#setting the properties for the chart\n",
    "plot_lables(plt, ax, 'distribution of bike duration in mins', 'count', 'duration in mins', 15, 10, 10)"
   ]
  },
  {
   "cell_type": "markdown",
   "id": "7a7b6d0d",
   "metadata": {},
   "source": [
    "- It can be seen that the highest trip duration is between 10 and 50 min."
   ]
  },
  {
   "cell_type": "markdown",
   "id": "51e121fd",
   "metadata": {},
   "source": [
    "### <span style='color:blue'> Question 5. What is the weekly bike rental? </span>"
   ]
  },
  {
   "cell_type": "code",
   "execution_count": 39,
   "id": "292c6edc",
   "metadata": {},
   "outputs": [],
   "source": [
    "# Creating a weekly index \n",
    "weekly_index = ['Monday', 'Tuesday', 'Wednesday', 'Thursday', 'Friday', 'Saturday', 'Sunday']\n",
    "\n",
    "#ordering the index \n",
    "df_bikes['start_time_week'] = pd.Categorical(df_bikes['start_time_week'], categories = weekly_index ,ordered=True)"
   ]
  },
  {
   "cell_type": "code",
   "execution_count": 40,
   "id": "efbab332",
   "metadata": {},
   "outputs": [
    {
     "data": {
      "text/html": [
       "<div>\n",
       "<style scoped>\n",
       "    .dataframe tbody tr th:only-of-type {\n",
       "        vertical-align: middle;\n",
       "    }\n",
       "\n",
       "    .dataframe tbody tr th {\n",
       "        vertical-align: top;\n",
       "    }\n",
       "\n",
       "    .dataframe thead th {\n",
       "        text-align: right;\n",
       "    }\n",
       "</style>\n",
       "<table border=\"1\" class=\"dataframe\">\n",
       "  <thead>\n",
       "    <tr style=\"text-align: right;\">\n",
       "      <th></th>\n",
       "      <th>start_time_week</th>\n",
       "      <th>count</th>\n",
       "    </tr>\n",
       "  </thead>\n",
       "  <tbody>\n",
       "    <tr>\n",
       "      <th>0</th>\n",
       "      <td>Monday</td>\n",
       "      <td>26852</td>\n",
       "    </tr>\n",
       "    <tr>\n",
       "      <th>1</th>\n",
       "      <td>Tuesday</td>\n",
       "      <td>31813</td>\n",
       "    </tr>\n",
       "    <tr>\n",
       "      <th>2</th>\n",
       "      <td>Wednesday</td>\n",
       "      <td>29641</td>\n",
       "    </tr>\n",
       "    <tr>\n",
       "      <th>3</th>\n",
       "      <td>Thursday</td>\n",
       "      <td>35197</td>\n",
       "    </tr>\n",
       "    <tr>\n",
       "      <th>4</th>\n",
       "      <td>Friday</td>\n",
       "      <td>28981</td>\n",
       "    </tr>\n",
       "    <tr>\n",
       "      <th>5</th>\n",
       "      <td>Saturday</td>\n",
       "      <td>15405</td>\n",
       "    </tr>\n",
       "    <tr>\n",
       "      <th>6</th>\n",
       "      <td>Sunday</td>\n",
       "      <td>15523</td>\n",
       "    </tr>\n",
       "  </tbody>\n",
       "</table>\n",
       "</div>"
      ],
      "text/plain": [
       "  start_time_week  count\n",
       "0          Monday  26852\n",
       "1         Tuesday  31813\n",
       "2       Wednesday  29641\n",
       "3        Thursday  35197\n",
       "4          Friday  28981\n",
       "5        Saturday  15405\n",
       "6          Sunday  15523"
      ]
     },
     "execution_count": 40,
     "metadata": {},
     "output_type": "execute_result"
    }
   ],
   "source": [
    "df_bikes_weekly = df_bikes.groupby(['start_time_week'])['start_time_week'].count().reset_index(\n",
    "            name='count').sort_values(['start_time_week'], )\n",
    "df_bikes_weekly"
   ]
  },
  {
   "cell_type": "code",
   "execution_count": 41,
   "id": "d6192556",
   "metadata": {
    "scrolled": true
   },
   "outputs": [
    {
     "data": {
      "image/png": "[encoded data removed]",
      "text/plain": [
       "<Figure size 720x360 with 1 Axes>"
      ]
     },
     "metadata": {
      "needs_background": "light"
     },
     "output_type": "display_data"
    }
   ],
   "source": [
    "# plotting the results\n",
    "fig, ax = plt.subplots(figsize=(10,5))\n",
    "ax = sns.barplot(x = 'start_time_week', y = 'count', data = df_bikes_weekly,   palette = 'winter_r', linewidth = 1)\n",
    "plot_lables(plt, ax, 'Distribution of users', 'weekdays', 'users counts', 15, 10, 10)"
   ]
  },
  {
   "cell_type": "markdown",
   "id": "4fadef17",
   "metadata": {},
   "source": [
    "- This chart indicates that the highest bike sharing requests and services mostly occur on Tuesdays, Wednesdays, and Thursdays. These are the peak days, while weekends i.e Saturdays and Sundays users are few in number."
   ]
  },
  {
   "cell_type": "markdown",
   "id": "177a16c1",
   "metadata": {},
   "source": [
    "### <span style='color:blue'> Question 6. What is the distribution of bikes across the top 20 start stations? </span>"
   ]
  },
  {
   "cell_type": "code",
   "execution_count": 42,
   "id": "8387908e",
   "metadata": {
    "scrolled": true
   },
   "outputs": [
    {
     "data": {
      "text/plain": [
       "start_station_name\n",
       "Market St at 10th St                                               3904\n",
       "San Francisco Caltrain Station 2  (Townsend St at 4th St)          3544\n",
       "Berry St at 4th St                                                 3052\n",
       "Montgomery St BART Station (Market St at 2nd St)                   2895\n",
       "Powell St BART Station (Market St at 4th St)                       2760\n",
       "San Francisco Ferry Building (Harry Bridges Plaza)                 2710\n",
       "San Francisco Caltrain (Townsend St at 4th St)                     2703\n",
       "Powell St BART Station (Market St at 5th St)                       2327\n",
       "Howard St at Beale St                                              2293\n",
       "Steuart St at Market St                                            2283\n",
       "The Embarcadero at Sansome St                                      2082\n",
       "Bancroft Way at Telegraph Ave                                      1796\n",
       "Bancroft Way at College Ave                                        1770\n",
       "2nd St at Townsend St                                              1765\n",
       "3rd St at Townsend St                                              1753\n",
       "Embarcadero BART Station (Beale St at Market St)                   1746\n",
       "Beale St at Harrison St                                            1719\n",
       "Civic Center/UN Plaza BART Station (Market St at McAllister St)    1611\n",
       "Townsend St at 7th St                                              1573\n",
       "4th St at Mission Bay Blvd S                                       1552\n",
       "Name: start_station_name, dtype: int64"
      ]
     },
     "execution_count": 42,
     "metadata": {},
     "output_type": "execute_result"
    }
   ],
   "source": [
    "#ordering the start stations in descending order\n",
    "df_bike_s = df_bikes.groupby('start_station_name')['start_station_name'].count()\n",
    "df_bike_ss= df_bike_s.sort_values(ascending=False)\n",
    "df_start_station= df_bike_ss.head(20)\n",
    "df_start_station"
   ]
  },
  {
   "cell_type": "code",
   "execution_count": 43,
   "id": "ae5ec05f",
   "metadata": {
    "scrolled": true
   },
   "outputs": [
    {
     "data": {
      "image/png": "[encoded data removed]",
      "text/plain": [
       "<Figure size 1080x432 with 1 Axes>"
      ]
     },
     "metadata": {
      "needs_background": "light"
     },
     "output_type": "display_data"
    }
   ],
   "source": [
    "#plotting the chart\n",
    "fig = plt.figure(figsize=(15,6))\n",
    "df_start_station_plot= df_start_station.plot(kind = 'bar', color=\"#0a417a\", edgecolor=\"#409240\", linewidth=1)\n",
    "plot_lables(plt, ax, 'distribution of bikes across the top 20 stations', 'top 20 start stations', 'rides count', 15, 10, 10)"
   ]
  },
  {
   "cell_type": "markdown",
   "id": "07d3ebd5",
   "metadata": {},
   "source": [
    "- Here, we looked at the top 10 start stations. It was observed that trips starting from Market St at 10th St have the highest count."
   ]
  },
  {
   "cell_type": "markdown",
   "id": "b72a8916",
   "metadata": {},
   "source": [
    "### <span style='color:blue'> Question 7. What is the distribution of bikes across the top 20 end stations? </span>"
   ]
  },
  {
   "cell_type": "code",
   "execution_count": 44,
   "id": "a6bcf0bb",
   "metadata": {
    "scrolled": true
   },
   "outputs": [
    {
     "data": {
      "text/plain": [
       "end_station_name\n",
       "San Francisco Caltrain Station 2  (Townsend St at 4th St)          4857\n",
       "Market St at 10th St                                               3973\n",
       "Montgomery St BART Station (Market St at 2nd St)                   3647\n",
       "San Francisco Ferry Building (Harry Bridges Plaza)                 3368\n",
       "Powell St BART Station (Market St at 4th St)                       2997\n",
       "San Francisco Caltrain (Townsend St at 4th St)                     2947\n",
       "Berry St at 4th St                                                 2872\n",
       "The Embarcadero at Sansome St                                      2512\n",
       "Powell St BART Station (Market St at 5th St)                       2353\n",
       "Steuart St at Market St                                            2338\n",
       "Howard St at Beale St                                              2034\n",
       "Civic Center/UN Plaza BART Station (Market St at McAllister St)    1865\n",
       "Bancroft Way at Telegraph Ave                                      1814\n",
       "Beale St at Harrison St                                            1812\n",
       "2nd St at Townsend St                                              1741\n",
       "3rd St at Townsend St                                              1700\n",
       "Embarcadero BART Station (Beale St at Market St)                   1699\n",
       "4th St at Mission Bay Blvd S                                       1626\n",
       "Townsend St at 7th St                                              1540\n",
       "The Embarcadero at Steuart St                                      1447\n",
       "Name: end_station_name, dtype: int64"
      ]
     },
     "execution_count": 44,
     "metadata": {},
     "output_type": "execute_result"
    }
   ],
   "source": [
    "##ordering the end stations in descending order\n",
    "df_bike_e = df_bikes.groupby('end_station_name')['end_station_name'].count()\n",
    "df_bike_es= df_bike_e.sort_values(ascending=False)\n",
    "df_end_station= df_bike_es.head(20)\n",
    "df_end_station"
   ]
  },
  {
   "cell_type": "code",
   "execution_count": 45,
   "id": "d39938c4",
   "metadata": {
    "scrolled": true
   },
   "outputs": [
    {
     "data": {
      "image/png": "[encoded data removed]",
      "text/plain": [
       "<Figure size 1080x432 with 1 Axes>"
      ]
     },
     "metadata": {
      "needs_background": "light"
     },
     "output_type": "display_data"
    }
   ],
   "source": [
    "#plotting the chart\n",
    "fig = plt.figure(figsize=(15,6))\n",
    "df_end_station_plot= df_end_station.plot(kind = 'bar',color='#409240', edgecolor='#0a417a', linewidth=1)\n",
    "plot_lables(plt, ax, 'distribution of bikes across the end 20 stations', 'top 20 end stations', 'rides count', 15, 10, 10)"
   ]
  },
  {
   "cell_type": "markdown",
   "id": "2fd86422",
   "metadata": {},
   "source": [
    "- Looking  at the top 10 end stations, it was observed that trips ending at San Francisco Caltrain Station 2 (Townsend St at 4th St) have the highest count."
   ]
  },
  {
   "cell_type": "markdown",
   "id": "660d3b46",
   "metadata": {},
   "source": [
    "### Discuss the distribution(s) of your variable(s) of interest. Were there any unusual points? Did you need to perform any transformations?\n",
    "\n",
    "> The weekdays had more trips than the weekends. Saturdays had a close distribution, but it's clear that after the weekend the number of trips increased slowly to its peak on Thursday.\n",
    "\n",
    "> The trip duration also decreased with an increase in age. This was quite expected.\n",
    "\n",
    "### Of the features you investigated, were there any unusual distributions? Did you perform any operations on the data to tidy, adjust, or change the form of the data? If so, why did you do this?\n",
    "\n",
    "> The birth year of the riders was cumbersome and not evenly distributed, so I had to categorically break them down into groups for easy analysis."
   ]
  },
  {
   "cell_type": "markdown",
   "id": "f9055fbb",
   "metadata": {},
   "source": [
    "## Bivariate Exploration\n",
    "> This section would be focused on the relationships between the two variables. I would explore further some variables observed from the univariate steps and more."
   ]
  },
  {
   "cell_type": "code",
   "execution_count": 46,
   "id": "8904d0c4",
   "metadata": {
    "scrolled": true
   },
   "outputs": [
    {
     "data": {
      "text/html": [
       "<div>\n",
       "<style scoped>\n",
       "    .dataframe tbody tr th:only-of-type {\n",
       "        vertical-align: middle;\n",
       "    }\n",
       "\n",
       "    .dataframe tbody tr th {\n",
       "        vertical-align: top;\n",
       "    }\n",
       "\n",
       "    .dataframe thead th {\n",
       "        text-align: right;\n",
       "    }\n",
       "</style>\n",
       "<table border=\"1\" class=\"dataframe\">\n",
       "  <thead>\n",
       "    <tr style=\"text-align: right;\">\n",
       "      <th></th>\n",
       "      <th>duration_sec</th>\n",
       "      <th>start_time</th>\n",
       "      <th>end_time</th>\n",
       "      <th>start_station_id</th>\n",
       "      <th>start_station_name</th>\n",
       "      <th>start_station_latitude</th>\n",
       "      <th>start_station_longitude</th>\n",
       "      <th>end_station_id</th>\n",
       "      <th>end_station_name</th>\n",
       "      <th>end_station_latitude</th>\n",
       "      <th>...</th>\n",
       "      <th>bike_id</th>\n",
       "      <th>user_type</th>\n",
       "      <th>member_birth_year</th>\n",
       "      <th>member_gender</th>\n",
       "      <th>bike_share_for_all_trip</th>\n",
       "      <th>start_time_week</th>\n",
       "      <th>duration_mins</th>\n",
       "      <th>birth_year_ranges</th>\n",
       "      <th>mins_duration</th>\n",
       "      <th>duration_mins_ranges</th>\n",
       "    </tr>\n",
       "  </thead>\n",
       "  <tbody>\n",
       "    <tr>\n",
       "      <th>54275</th>\n",
       "      <td>377</td>\n",
       "      <td>2019-02-21</td>\n",
       "      <td>2019-02-21</td>\n",
       "      <td>20</td>\n",
       "      <td>Mechanics Monument Plaza (Market St at Bush St)</td>\n",
       "      <td>37.7913</td>\n",
       "      <td>-122.399051</td>\n",
       "      <td>5</td>\n",
       "      <td>Powell St BART Station (Market St at 5th St)</td>\n",
       "      <td>37.783899</td>\n",
       "      <td>...</td>\n",
       "      <td>6484</td>\n",
       "      <td>Customer</td>\n",
       "      <td>1962</td>\n",
       "      <td>Male</td>\n",
       "      <td>No</td>\n",
       "      <td>Thursday</td>\n",
       "      <td>6</td>\n",
       "      <td>1960-1970</td>\n",
       "      <td>5.5-6.0</td>\n",
       "      <td>5.5-6.0</td>\n",
       "    </tr>\n",
       "  </tbody>\n",
       "</table>\n",
       "<p>1 rows × 21 columns</p>\n",
       "</div>"
      ],
      "text/plain": [
       "       duration_sec  start_time    end_time  start_station_id  \\\n",
       "54275           377  2019-02-21  2019-02-21                20   \n",
       "\n",
       "                                    start_station_name  \\\n",
       "54275  Mechanics Monument Plaza (Market St at Bush St)   \n",
       "\n",
       "       start_station_latitude  start_station_longitude  end_station_id  \\\n",
       "54275                 37.7913              -122.399051               5   \n",
       "\n",
       "                                   end_station_name  end_station_latitude  \\\n",
       "54275  Powell St BART Station (Market St at 5th St)             37.783899   \n",
       "\n",
       "       ...  bike_id  user_type member_birth_year  member_gender  \\\n",
       "54275  ...     6484   Customer              1962           Male   \n",
       "\n",
       "      bike_share_for_all_trip start_time_week duration_mins  \\\n",
       "54275                      No        Thursday             6   \n",
       "\n",
       "       birth_year_ranges mins_duration duration_mins_ranges  \n",
       "54275          1960-1970       5.5-6.0              5.5-6.0  \n",
       "\n",
       "[1 rows x 21 columns]"
      ]
     },
     "execution_count": 46,
     "metadata": {},
     "output_type": "execute_result"
    }
   ],
   "source": [
    "df_bikes.sample()"
   ]
  },
  {
   "cell_type": "markdown",
   "id": "e3ded4e9",
   "metadata": {},
   "source": [
    "### <span style='color:blue'> Question 8. What is the weekly distribution of bikes when considering the duration in minutes? </span>"
   ]
  },
  {
   "cell_type": "code",
   "execution_count": 47,
   "id": "c969064c",
   "metadata": {
    "scrolled": false
   },
   "outputs": [
    {
     "data": {
      "image/png": "[encoded data removed]",
      "text/plain": [
       "<Figure size 720x720 with 1 Axes>"
      ]
     },
     "metadata": {
      "needs_background": "light"
     },
     "output_type": "display_data"
    }
   ],
   "source": [
    "#plotting the chart\n",
    "fig = plt.figure(figsize=(10,10))\n",
    "ax = sns.boxplot(y='duration_mins', x='start_time_week',  data=df_bikes, palette='crest')\n",
    "plt.ylim(0,30)\n",
    "plot_lables(plt, ax, 'weekly bike distribution in mins', 'weekdays', 'trip duration(mins)', 15, 10, 10)"
   ]
  },
  {
   "cell_type": "markdown",
   "id": "279519a4",
   "metadata": {},
   "source": [
    "- It can be seen that the average duration of trips on weekends is highest on weekends, i.e., Saturdays and Sundays."
   ]
  },
  {
   "cell_type": "markdown",
   "id": "fcb21801",
   "metadata": {},
   "source": [
    "### <span style='color:blue'> Question 9. What is the average time it takes a particular gender to complete a trip?"
   ]
  },
  {
   "cell_type": "code",
   "execution_count": 48,
   "id": "3fb30769",
   "metadata": {
    "scrolled": false
   },
   "outputs": [
    {
     "data": {
      "image/png": "[encoded data removed]",
      "text/plain": [
       "<Figure size 648x432 with 1 Axes>"
      ]
     },
     "metadata": {
      "needs_background": "light"
     },
     "output_type": "display_data"
    }
   ],
   "source": [
    "#plotting the chart\n",
    "fig = plt.figure(figsize=(9,6))\n",
    "ax = sns.violinplot(y='duration_mins', x='member_gender', data=df_bikes, palette='crest')\n",
    "plt.ylim(-20,100)\n",
    "plot_lables(plt, ax, 'gender member trips duration', 'gender', 'trip duration(mins)', 15, 10, 10)"
   ]
  },
  {
   "cell_type": "markdown",
   "id": "2854c589",
   "metadata": {},
   "source": [
    "- From the boxplot above, it can be seen that the females and other genders have a higher average trip duration when compared to the males."
   ]
  },
  {
   "cell_type": "markdown",
   "id": "a6835087",
   "metadata": {},
   "source": [
    "### <span style='color:blue'> Question 10. What is the users' duration in minutes? </span>"
   ]
  },
  {
   "cell_type": "code",
   "execution_count": 49,
   "id": "eb99c5a1",
   "metadata": {
    "scrolled": false
   },
   "outputs": [
    {
     "data": {
      "image/png": "[encoded data removed]",
      "text/plain": [
       "<Figure size 576x576 with 1 Axes>"
      ]
     },
     "metadata": {
      "needs_background": "light"
     },
     "output_type": "display_data"
    }
   ],
   "source": [
    "#plotting the chart\n",
    "fig = plt.figure(figsize=(8,8))\n",
    "ax = sns.boxplot(y='duration_mins', x='user_type',  data=df_bikes, palette='crest')\n",
    "plt.ylim(0,60)\n",
    "plot_lables(plt, ax, 'users duration', 'users', 'trip duration(mins)', 15, 10, 10)"
   ]
  },
  {
   "cell_type": "markdown",
   "id": "147cf474",
   "metadata": {},
   "source": [
    "- This chart indicates that Customers spend more average duration time on a bike trip than Subscribers."
   ]
  },
  {
   "cell_type": "markdown",
   "id": "e3d4432c",
   "metadata": {},
   "source": [
    "### <span style='color:blue'> Question 11. What is the birth year range of members? </span>"
   ]
  },
  {
   "cell_type": "code",
   "execution_count": 50,
   "id": "5eecb4ec",
   "metadata": {},
   "outputs": [
    {
     "data": {
      "text/html": [
       "<div>\n",
       "<style scoped>\n",
       "    .dataframe tbody tr th:only-of-type {\n",
       "        vertical-align: middle;\n",
       "    }\n",
       "\n",
       "    .dataframe tbody tr th {\n",
       "        vertical-align: top;\n",
       "    }\n",
       "\n",
       "    .dataframe thead th {\n",
       "        text-align: right;\n",
       "    }\n",
       "</style>\n",
       "<table border=\"1\" class=\"dataframe\">\n",
       "  <thead>\n",
       "    <tr style=\"text-align: right;\">\n",
       "      <th>member_gender</th>\n",
       "      <th>Female</th>\n",
       "      <th>Male</th>\n",
       "      <th>Other</th>\n",
       "    </tr>\n",
       "    <tr>\n",
       "      <th>birth_year_ranges</th>\n",
       "      <th></th>\n",
       "      <th></th>\n",
       "      <th></th>\n",
       "    </tr>\n",
       "  </thead>\n",
       "  <tbody>\n",
       "    <tr>\n",
       "      <th>&lt;1900</th>\n",
       "      <td>3</td>\n",
       "      <td>51</td>\n",
       "      <td>8265</td>\n",
       "    </tr>\n",
       "    <tr>\n",
       "      <th>1990-1910</th>\n",
       "      <td>11</td>\n",
       "      <td>6</td>\n",
       "      <td>1</td>\n",
       "    </tr>\n",
       "    <tr>\n",
       "      <th>1910-1920</th>\n",
       "      <td>0</td>\n",
       "      <td>3</td>\n",
       "      <td>0</td>\n",
       "    </tr>\n",
       "    <tr>\n",
       "      <th>1920-1930</th>\n",
       "      <td>0</td>\n",
       "      <td>1</td>\n",
       "      <td>2</td>\n",
       "    </tr>\n",
       "    <tr>\n",
       "      <th>1930-1940</th>\n",
       "      <td>26</td>\n",
       "      <td>99</td>\n",
       "      <td>0</td>\n",
       "    </tr>\n",
       "    <tr>\n",
       "      <th>1940-1950</th>\n",
       "      <td>65</td>\n",
       "      <td>559</td>\n",
       "      <td>25</td>\n",
       "    </tr>\n",
       "    <tr>\n",
       "      <th>1950-1960</th>\n",
       "      <td>602</td>\n",
       "      <td>3471</td>\n",
       "      <td>36</td>\n",
       "    </tr>\n",
       "    <tr>\n",
       "      <th>1960-1970</th>\n",
       "      <td>2584</td>\n",
       "      <td>9848</td>\n",
       "      <td>467</td>\n",
       "    </tr>\n",
       "    <tr>\n",
       "      <th>1970-1980</th>\n",
       "      <td>5493</td>\n",
       "      <td>21695</td>\n",
       "      <td>638</td>\n",
       "    </tr>\n",
       "    <tr>\n",
       "      <th>1980-1990</th>\n",
       "      <td>18200</td>\n",
       "      <td>52945</td>\n",
       "      <td>1591</td>\n",
       "    </tr>\n",
       "    <tr>\n",
       "      <th>1990-2000</th>\n",
       "      <td>13842</td>\n",
       "      <td>41957</td>\n",
       "      <td>892</td>\n",
       "    </tr>\n",
       "    <tr>\n",
       "      <th>2000+</th>\n",
       "      <td>18</td>\n",
       "      <td>16</td>\n",
       "      <td>0</td>\n",
       "    </tr>\n",
       "  </tbody>\n",
       "</table>\n",
       "</div>"
      ],
      "text/plain": [
       "member_gender      Female   Male  Other\n",
       "birth_year_ranges                      \n",
       "<1900                   3     51   8265\n",
       "1990-1910              11      6      1\n",
       "1910-1920               0      3      0\n",
       "1920-1930               0      1      2\n",
       "1930-1940              26     99      0\n",
       "1940-1950              65    559     25\n",
       "1950-1960             602   3471     36\n",
       "1960-1970            2584   9848    467\n",
       "1970-1980            5493  21695    638\n",
       "1980-1990           18200  52945   1591\n",
       "1990-2000           13842  41957    892\n",
       "2000+                  18     16      0"
      ]
     },
     "execution_count": 50,
     "metadata": {},
     "output_type": "execute_result"
    }
   ],
   "source": [
    "#Grouping based on gender and birth years\n",
    "df_member = df_bikes[['member_gender','birth_year_ranges']].groupby(['member_gender','birth_year_ranges']).size().reset_index(name='counts')\n",
    "\n",
    "member_b_pivot = (df_member.pivot(values=\"counts\", index=\"birth_year_ranges\",\n",
    "                  columns=\"member_gender\",).sort_values('birth_year_ranges'))\n",
    "member_b_pivot"
   ]
  },
  {
   "cell_type": "code",
   "execution_count": 51,
   "id": "2e439c8f",
   "metadata": {
    "scrolled": true
   },
   "outputs": [
    {
     "data": {
      "text/plain": [
       "<Figure size 1080x432 with 0 Axes>"
      ]
     },
     "metadata": {},
     "output_type": "display_data"
    },
    {
     "data": {
      "image/png": "[encoded data removed]",
      "text/plain": [
       "<Figure size 1440x432 with 1 Axes>"
      ]
     },
     "metadata": {
      "needs_background": "light"
     },
     "output_type": "display_data"
    }
   ],
   "source": [
    "#plotting the chart\n",
    "fig = plt.figure(figsize=(15,6))\n",
    "member_b_pivot_plot= member_b_pivot.plot(kind = 'bar', edgecolor=\"#409240\", linewidth=2, \n",
    "                                         figsize=(20,6), color = ['#0a417a', '#2085ec', '#8464a0'])\n",
    "plt.title('distribution of distribution of bikes across the end 10 stations')\n",
    "plt.xlabel('top 10 end stations')\n",
    "plt.show()"
   ]
  },
  {
   "cell_type": "markdown",
   "id": "a3ca371e",
   "metadata": {},
   "source": [
    "- Irrespective of the gender, the birth year between 1980 and 2000 still seems to be the highest, even though the male gender tops the list."
   ]
  },
  {
   "cell_type": "markdown",
   "id": "9a03819b",
   "metadata": {},
   "source": [
    "### Talk about some of the relationships you observed in this part of the investigation. How did the feature(s) of interest vary with other features in the dataset?\n",
    "\n",
    "> Considering weekly trip durations, it was observed that the average duration of trips is quite longer than weekdays.\n",
    "\n",
    ">There is also a kind of correlation between trip duration and user type; Subscribers tend to have shorter usage times than customers.\n",
    "\n",
    "\n",
    "### Did you observe any interesting relationships between the other features (not the main feature(s) of interest)?\n",
    "\n",
    "> When looking at the relationship between trip duration and gender, I was quite surprised to find that the male gender had the lowest trip duration."
   ]
  },
  {
   "cell_type": "markdown",
   "id": "6daa306e",
   "metadata": {},
   "source": [
    "## Multivariate Exploration"
   ]
  },
  {
   "cell_type": "markdown",
   "id": "ce79087d",
   "metadata": {},
   "source": [
    "### <span style='color:blue'> Question 12. What is the relationship between the users and their gender during a bike trip? </span>"
   ]
  },
  {
   "cell_type": "code",
   "execution_count": 52,
   "id": "66215533",
   "metadata": {
    "scrolled": true
   },
   "outputs": [
    {
     "data": {
      "image/png": "[encoded data removed]",
      "text/plain": [
       "<Figure size 576x576 with 1 Axes>"
      ]
     },
     "metadata": {
      "needs_background": "light"
     },
     "output_type": "display_data"
    }
   ],
   "source": [
    "#plotting the chart\n",
    "fig = plt.figure(figsize=(8,8))\n",
    "sns.violinplot(data = df_bikes, x='member_gender',y='duration_mins',hue='user_type', palette='winter')\n",
    "plt.ylim(-40,100)\n",
    "plt.legend(title='User Type', bbox_to_anchor=(1,0.5))\n",
    "plot_lables(plt, ax, 'gender member trips duration', 'gender', 'trip duration(mins)', 15, 10, 10)"
   ]
  },
  {
   "cell_type": "markdown",
   "id": "5edf6706",
   "metadata": {},
   "source": [
    "### <span style='color:blue'>Question 13: Given the genders, what is the distribution of days by duration? </span>"
   ]
  },
  {
   "cell_type": "code",
   "execution_count": 53,
   "id": "790e721b",
   "metadata": {},
   "outputs": [
    {
     "data": {
      "image/png": "[encoded data removed]",
      "text/plain": [
       "<Figure size 1080x360 with 1 Axes>"
      ]
     },
     "metadata": {
      "needs_background": "light"
     },
     "output_type": "display_data"
    }
   ],
   "source": [
    "#Plotting the chart\n",
    "fig = plt.figure(figsize=(15,5))\n",
    "sns.pointplot(data = df_bikes, x = 'start_time_week', y = 'duration_mins', hue = 'member_gender', palette='muted',  ci=None)\n",
    "plot_lables(plt, ax, 'weekly trip duration for a gender type', 'weekdays', 'trip duration(mins)', 15, 10, 10)"
   ]
  },
  {
   "cell_type": "markdown",
   "id": "011b4b3f",
   "metadata": {},
   "source": [
    "- From the chart above, all genders spend the highest amount of time on trips, mostly on Saturdays and Sundays. However, other genders appear to spend more trip duration time while the male and female gender follow quite the same pattern."
   ]
  },
  {
   "cell_type": "markdown",
   "id": "4241a508",
   "metadata": {},
   "source": [
    "### <span style='color:blue'> Question 14: Given the genders, what is the distribution of days by duration? </span>"
   ]
  },
  {
   "cell_type": "code",
   "execution_count": 54,
   "id": "0e61ff43",
   "metadata": {
    "scrolled": false
   },
   "outputs": [
    {
     "data": {
      "text/plain": [
       "Thursday     31807\n",
       "Tuesday      29207\n",
       "Wednesday    27175\n",
       "Friday       25951\n",
       "Monday       24111\n",
       "Saturday     12666\n",
       "Sunday       12627\n",
       "Name: start_time_week, dtype: int64"
      ]
     },
     "execution_count": 54,
     "metadata": {},
     "output_type": "execute_result"
    }
   ],
   "source": [
    "#sorting out the subscriber usertype\n",
    "df_bikes_subscriber = df_bikes.loc[df_bikes['user_type']== 'Subscriber']\n",
    "df_bikes_subscriber['start_time_week'].value_counts()"
   ]
  },
  {
   "cell_type": "code",
   "execution_count": 55,
   "id": "86197c31",
   "metadata": {},
   "outputs": [
    {
     "data": {
      "text/plain": [
       "Thursday     3390\n",
       "Friday       3030\n",
       "Sunday       2896\n",
       "Monday       2741\n",
       "Saturday     2739\n",
       "Tuesday      2606\n",
       "Wednesday    2466\n",
       "Name: start_time_week, dtype: int64"
      ]
     },
     "execution_count": 55,
     "metadata": {},
     "output_type": "execute_result"
    }
   ],
   "source": [
    "#sorting out the customer usertype\n",
    "df_bikes_customer = df_bikes.loc[df_bikes['user_type']== 'Customer']\n",
    "df_bikes_customer['start_time_week'].value_counts()"
   ]
  },
  {
   "cell_type": "code",
   "execution_count": 56,
   "id": "b3ad897d",
   "metadata": {
    "scrolled": true
   },
   "outputs": [
    {
     "data": {
      "image/png": "[encoded data removed]",
      "text/plain": [
       "<Figure size 576x288 with 1 Axes>"
      ]
     },
     "metadata": {
      "needs_background": "light"
     },
     "output_type": "display_data"
    },
    {
     "data": {
      "image/png": "[encoded data removed]",
      "text/plain": [
       "<Figure size 576x288 with 1 Axes>"
      ]
     },
     "metadata": {
      "needs_background": "light"
     },
     "output_type": "display_data"
    }
   ],
   "source": [
    "#plotting the chart\n",
    "plt.figure(figsize=(8,4))\n",
    "sns.barplot(data=df_bikes_subscriber, x='start_time_week', y='duration_mins',\n",
    "            ci=None, hue='user_type', palette='pastel')\n",
    "plt.title(' weekly trip duration of subscribers')\n",
    "plt.ylabel('trip duration (min)')\n",
    "plt.xlabel('weekdays')\n",
    "plt.legend(bbox_to_anchor=(1,0.5))\n",
    "plt.show()\n",
    "\n",
    "\n",
    "#plotting the chart\n",
    "plt.figure(figsize=(8,4))\n",
    "sns.barplot(data =df_bikes_customer, x='start_time_week', y='duration_mins',\n",
    "            ci=None, hue='user_type', palette='bright')\n",
    "plt.title(' weekly trip duration of customers')\n",
    "plt.ylabel('trip duration (min)')\n",
    "plt.xlabel('weekdays')\n",
    "plt.legend(bbox_to_anchor=(1,0.5))\n",
    "plt.show()"
   ]
  },
  {
   "cell_type": "code",
   "execution_count": 57,
   "id": "42472039",
   "metadata": {},
   "outputs": [
    {
     "data": {
      "image/png": "[encoded data removed]",
      "text/plain": [
       "<Figure size 720x720 with 1 Axes>"
      ]
     },
     "metadata": {
      "needs_background": "light"
     },
     "output_type": "display_data"
    }
   ],
   "source": [
    "#plotting the chart\n",
    "fig = plt.figure(figsize=(10,10))\n",
    "ax = sns.boxplot(y='duration_mins', x='start_time_week', hue= 'user_type', data=df_bikes, palette='tab20')\n",
    "plt.ylim(0,30)\n",
    "plt.legend(bbox_to_anchor=(1,0.5))\n",
    "plot_lables(plt, ax, 'users weekly bike distribution', 'weekdays', 'trip duration(mins)', 15, 10, 10)\n"
   ]
  },
  {
   "cell_type": "markdown",
   "id": "fc65625f",
   "metadata": {},
   "source": [
    "- This indicates the Customers spends the highest amount of time on trips than Subscribers during both weekdays and weekends. Although they have an increased rental frequency on weekends."
   ]
  },
  {
   "cell_type": "markdown",
   "id": "8e1e8088",
   "metadata": {},
   "source": [
    "### <span style='color:blue'> Question 15. What is the distribution of days by duration given to the users? </span>"
   ]
  },
  {
   "cell_type": "code",
   "execution_count": 58,
   "id": "867ce861",
   "metadata": {},
   "outputs": [
    {
     "data": {
      "image/png": "[encoded data removed]",
      "text/plain": [
       "<Figure size 1080x360 with 1 Axes>"
      ]
     },
     "metadata": {
      "needs_background": "light"
     },
     "output_type": "display_data"
    }
   ],
   "source": [
    "fig = plt.figure(figsize=(15,5))\n",
    "sns.barplot(data =df_bikes, x='birth_year_ranges', y='duration_mins',\n",
    "            ci=None, hue='user_type', palette='winter')\n",
    "plt.legend(bbox_to_anchor=(1,0.5))\n",
    "plot_lables(plt, ax, 'eekly trip duration of users', 'birth year', 'trip duration(mins)', 15, 10, 10)"
   ]
  },
  {
   "cell_type": "markdown",
   "id": "0ae4af9f",
   "metadata": {},
   "source": [
    "### Talk about some of the relationships you observed in this part of the investigation. Were there features that strengthened each other in terms of looking at your feature(s) of interest?\n",
    "\n",
    "> Here I observed that both Customers and Subscribers show almost similar trends for age and trip duration. But there is a slight tilt toward a higher age for Customers. Also, I observed that Subscribers and customers in the birth year group 2000(less than 40 years old) were the main bike renters. \n",
    "\n",
    "### Were there any interesting or surprising interactions between features?\n",
    "\n",
    "> An interesting insight is the peak at which other genders have higher trip duration periods than the female and male genders."
   ]
  },
  {
   "cell_type": "markdown",
   "id": "f19bd60d",
   "metadata": {},
   "source": [
    "## Conclusions"
   ]
  },
  {
   "cell_type": "markdown",
   "id": "a9f25df3",
   "metadata": {},
   "source": [
    "The analysis of this dataset helps to draw certain conclusions.\n",
    "\n",
    "The highest percentage of the riders are men. This possibly indicates that there is a need to research the possible cause of such a gap.\n",
    "\n",
    "The riders born between 1980 and 2000 (age group between 39 and 20), i.e., mostly adults, are the dominant riders.\n",
    "\n",
    "There are more Subscribers than Customers. This shows a lot of people actually subscribed to the bike sharing plan.\n",
    "\n",
    "There is a growing number of Subscriber riders at a higher rate than the Customers. This is a good indication that more awareness has been created with flexible subscription plans either by referrals or great public relations."
   ]
  },
  {
   "cell_type": "markdown",
   "id": "44a24513",
   "metadata": {},
   "source": [
    "## References"
   ]
  },
  {
   "cell_type": "markdown",
   "id": "69a37a8d",
   "metadata": {},
   "source": [
    "https://seaborn.pydata.org/generated/seaborn.color_palette.html\n",
    "\n",
    "https://stackabuse.com/seaborn-violin-plot-tutorial-and-examples/\n",
    "\n",
    "https://towardsdatascience.com/creating-boxplots-with-the-seaborn-python-library-f0c20f09bd57"
   ]
  },
  {
   "cell_type": "code",
   "execution_count": null,
   "id": "2c49b933",
   "metadata": {},
   "outputs": [],
   "source": []
  }
 ],
 "metadata": {
  "kernelspec": {
   "display_name": "Python 3 (ipykernel)",
   "language": "python",
   "name": "python3"
  },
  "language_info": {
   "codemirror_mode": {
    "name": "ipython",
    "version": 3
   },
   "file_extension": ".py",
   "mimetype": "text/x-python",
   "name": "python",
   "nbconvert_exporter": "python",
   "pygments_lexer": "ipython3",
   "version": "3.9.12"
  }
 },
 "nbformat": 4,
 "nbformat_minor": 5
}

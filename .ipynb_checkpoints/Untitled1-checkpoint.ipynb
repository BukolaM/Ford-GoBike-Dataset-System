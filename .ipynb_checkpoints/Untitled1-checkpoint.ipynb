{
 "cells": [
  {
   "cell_type": "markdown",
   "id": "b9fef5e4",
   "metadata": {},
   "source": [
    "#  2019 Ford GoBike System Dataset Exploration and Visualization\n",
    "## by (Bukola Ajayi)"
   ]
  },
  {
   "cell_type": "markdown",
   "id": "c3793d11",
   "metadata": {},
   "source": [
    "\n",
    "## Dataset Overview\n",
    "This dataset includes information about individual rides made on a bike-sharing system covering the greater San Francisco Bay area in the year 2019."
   ]
  },
  {
   "cell_type": "markdown",
   "id": "c43f4fae",
   "metadata": {},
   "source": [
    "## Summary of Findings"
   ]
  },
  {
   "cell_type": "markdown",
   "id": "35901e6f",
   "metadata": {},
   "source": [
    "- There are two types of clients using the system: Subscribers and Customers. \n",
    "\n",
    "- The dominant users are the Subscribers and they also spend the least average duration of time on a bike trip.\n",
    "\n",
    "- The average duration of trips on weekends is higher than on weekdays.\n",
    "\n",
    "- The highest bike sharing requests and services mostly occur on Tuesdays, Wednesdays, and Thursdays. These are the peak days, while weekend users are few in number.\n",
    "\n",
    "- Users between the ages of 25 and 35 make the highest number of trips.\n",
    "\n",
    "- Both the females and other genders have a higher average trip duration when compared to the males."
   ]
  },
  {
   "cell_type": "markdown",
   "id": "89c9549b",
   "metadata": {},
   "source": [
    "## Key Insights for Presentation\n"
   ]
  },
  {
   "cell_type": "markdown",
   "id": "3ba09415",
   "metadata": {},
   "source": [
    "- The riders born between 1980 and 2000(age group between 39 and 20), i.e., mostly adults, are the dominant riders.\n",
    "\n",
    "- There are more Subscribers than Customers. This shows a lot of people actually subscribed to the bike sharing plan.\n",
    "\n",
    "- Both of Users type have a longer trip duration on weekend in relative to their trips during other week days.\n",
    "\n",
    "- There is a growing number of Subscriber riders at a higher rate than the Customers. This is a good indication that more awareness has been created with flexible subscription plans either by referrals or great public relations.\n",
    "\n",
    "-  The highest trip duration for a bike is between 10 and 50 minutes."
   ]
  },
  {
   "cell_type": "code",
   "execution_count": null,
   "id": "64240e09",
   "metadata": {},
   "outputs": [],
   "source": []
  }
 ],
 "metadata": {
  "kernelspec": {
   "display_name": "Python 3 (ipykernel)",
   "language": "python",
   "name": "python3"
  },
  "language_info": {
   "codemirror_mode": {
    "name": "ipython",
    "version": 3
   },
   "file_extension": ".py",
   "mimetype": "text/x-python",
   "name": "python",
   "nbconvert_exporter": "python",
   "pygments_lexer": "ipython3",
   "version": "3.9.12"
  }
 },
 "nbformat": 4,
 "nbformat_minor": 5
}
